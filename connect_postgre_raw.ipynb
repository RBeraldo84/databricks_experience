{
 "cells": [
  {
   "cell_type": "code",
   "execution_count": 0,
   "metadata": {
    "application/vnd.databricks.v1+cell": {
     "cellMetadata": {
      "byteLimit": 2048000,
      "rowLimit": 10000
     },
     "inputWidgets": {},
     "nuid": "46e5f319-ec49-4e81-843d-274e417c5e99",
     "showTitle": false,
     "tableResultSettingsMap": {},
     "title": ""
    }
   },
   "outputs": [],
   "source": [
    "from pyspark.sql.functions import *\n",
    "from pyspark.sql.types import *\n",
    "import re"
   ]
  },
  {
   "cell_type": "code",
   "execution_count": 0,
   "metadata": {
    "application/vnd.databricks.v1+cell": {
     "cellMetadata": {
      "byteLimit": 2048000,
      "rowLimit": 10000
     },
     "inputWidgets": {},
     "nuid": "1de74fe6-8fb2-4816-8c9f-304e46e6a3f7",
     "showTitle": false,
     "tableResultSettingsMap": {},
     "title": ""
    }
   },
   "outputs": [],
   "source": [
    "# Substitua \"meu_scope\" pelo nome real do seu secret scope\n",
    "scope = \"b_coders\"\n",
    "\n",
    "# Teste a leitura dos segredos (NÃO imprime o valor real, apenas confirma que existe)\n",
    "try:\n",
    "    db_host = dbutils.secrets.get(scope=scope, key=\"db_host\")\n",
    "    db_port = dbutils.secrets.get(scope=scope, key=\"db_port\")\n",
    "    db_user = dbutils.secrets.get(scope=scope, key=\"db_username\")\n",
    "    db_password = dbutils.secrets.get(scope=scope, key=\"db_password\")\n",
    "    db_database = dbutils.secrets.get(scope=scope, key=\"db_database\")\n",
    "\n",
    "    print(\"✅ Segredos carregados com sucesso.\")\n",
    "except Exception as e:\n",
    "    print(f\"❌ Erro ao carregar os segredos: {e}\")\n"
   ]
  },
  {
   "cell_type": "code",
   "execution_count": 0,
   "metadata": {
    "application/vnd.databricks.v1+cell": {
     "cellMetadata": {
      "byteLimit": 2048000,
      "rowLimit": 10000
     },
     "inputWidgets": {},
     "nuid": "368cd274-4690-4de4-a5ae-c71d717f4f1c",
     "showTitle": false,
     "tableResultSettingsMap": {},
     "title": ""
    }
   },
   "outputs": [],
   "source": [
    "# Monta a URL JDBC com as variáveis seguras\n",
    "jdbc_url = f\"jdbc:postgresql://{db_host}:{db_port}/{db_database}\"\n",
    "\n",
    "# Exibe a URL sem a senha (por segurança)\n",
    "print(\"🔗 URL JDBC montada com sucesso.\")\n"
   ]
  },
  {
   "cell_type": "code",
   "execution_count": 0,
   "metadata": {
    "application/vnd.databricks.v1+cell": {
     "cellMetadata": {
      "byteLimit": 2048000,
      "rowLimit": 10000
     },
     "inputWidgets": {},
     "nuid": "a25c0c00-e009-47c9-a03c-e81e26eaed92",
     "showTitle": false,
     "tableResultSettingsMap": {},
     "title": ""
    }
   },
   "outputs": [],
   "source": [
    "# Define as propriedades da conexão\n",
    "connection_properties = {\n",
    "    \"user\": db_user,\n",
    "    \"password\": db_password,\n",
    "    \"driver\": \"org.postgresql.Driver\"\n",
    "}\n"
   ]
  },
  {
   "cell_type": "code",
   "execution_count": 0,
   "metadata": {
    "application/vnd.databricks.v1+cell": {
     "cellMetadata": {
      "byteLimit": 2048000,
      "rowLimit": 10000
     },
     "inputWidgets": {},
     "nuid": "fe282f5b-8e2c-4e84-aade-a8b58e37476a",
     "showTitle": false,
     "tableResultSettingsMap": {},
     "title": ""
    }
   },
   "outputs": [],
   "source": [
    "\n",
    "tabela_clientes = \"public.clientes\"\n",
    "\n",
    "df_clientes = spark.read.jdbc(\n",
    "    url=jdbc_url,\n",
    "    table=tabela_clientes,\n",
    "    properties=connection_properties\n",
    ")\n",
    "\n",
    "# Exibir as primeiras linhas\n",
    "df_clientes.display()\n"
   ]
  },
  {
   "cell_type": "code",
   "execution_count": 0,
   "metadata": {
    "application/vnd.databricks.v1+cell": {
     "cellMetadata": {
      "byteLimit": 2048000,
      "rowLimit": 10000
     },
     "inputWidgets": {},
     "nuid": "012ab8fb-8b29-4acd-b77d-54387273abcc",
     "showTitle": false,
     "tableResultSettingsMap": {},
     "title": ""
    }
   },
   "outputs": [],
   "source": [
    "tabela_pedidos = \"public.pedidos\"\n",
    "\n",
    "df_pedidos = spark.read.jdbc(\n",
    "    url=jdbc_url,\n",
    "    table=tabela_pedidos,\n",
    "    properties=connection_properties\n",
    ")\n",
    "\n",
    "# Exibir as primeiras linhas\n",
    "df_pedidos.display()"
   ]
  },
  {
   "cell_type": "code",
   "execution_count": 0,
   "metadata": {
    "application/vnd.databricks.v1+cell": {
     "cellMetadata": {},
     "inputWidgets": {},
     "nuid": "2d28ef51-b9a2-4fe0-80f9-a01cf3f8063d",
     "showTitle": false,
     "tableResultSettingsMap": {},
     "title": ""
    }
   },
   "outputs": [],
   "source": []
  }
 ],
 "metadata": {
  "application/vnd.databricks.v1+notebook": {
   "computePreferences": {
    "hardware": {
     "accelerator": null,
     "gpuPoolId": null,
     "memory": null
    }
   },
   "dashboards": [],
   "environmentMetadata": {
    "base_environment": "",
    "dependencies": [
     "postgresql;42.7.2"
    ],
    "environment_version": "2"
   },
   "inputWidgetPreferences": null,
   "language": "python",
   "notebookMetadata": {
    "pythonIndentUnit": 4
   },
   "notebookName": "connect_postgre_raw",
   "widgets": {}
  },
  "language_info": {
   "name": "python"
  }
 },
 "nbformat": 4,
 "nbformat_minor": 0
}
